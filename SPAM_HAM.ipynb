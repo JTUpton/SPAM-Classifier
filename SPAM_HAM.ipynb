{
 "cells": [
  {
   "cell_type": "markdown",
   "metadata": {},
   "source": [
    "# SPAM or HAM?\n",
    "\n",
    "Text message data is explored and models trained to predict if a message is spam. "
   ]
  },
  {
   "cell_type": "code",
   "execution_count": 1,
   "metadata": {},
   "outputs": [
    {
     "data": {
      "text/html": [
       "<div>\n",
       "<style>\n",
       "    .dataframe thead tr:only-child th {\n",
       "        text-align: right;\n",
       "    }\n",
       "\n",
       "    .dataframe thead th {\n",
       "        text-align: left;\n",
       "    }\n",
       "\n",
       "    .dataframe tbody tr th {\n",
       "        vertical-align: top;\n",
       "    }\n",
       "</style>\n",
       "<table border=\"1\" class=\"dataframe\">\n",
       "  <thead>\n",
       "    <tr style=\"text-align: right;\">\n",
       "      <th></th>\n",
       "      <th>text</th>\n",
       "      <th>target</th>\n",
       "    </tr>\n",
       "  </thead>\n",
       "  <tbody>\n",
       "    <tr>\n",
       "      <th>0</th>\n",
       "      <td>Go until jurong point, crazy.. Available only ...</td>\n",
       "      <td>0</td>\n",
       "    </tr>\n",
       "    <tr>\n",
       "      <th>1</th>\n",
       "      <td>Ok lar... Joking wif u oni...</td>\n",
       "      <td>0</td>\n",
       "    </tr>\n",
       "    <tr>\n",
       "      <th>2</th>\n",
       "      <td>Free entry in 2 a wkly comp to win FA Cup fina...</td>\n",
       "      <td>1</td>\n",
       "    </tr>\n",
       "    <tr>\n",
       "      <th>3</th>\n",
       "      <td>U dun say so early hor... U c already then say...</td>\n",
       "      <td>0</td>\n",
       "    </tr>\n",
       "    <tr>\n",
       "      <th>4</th>\n",
       "      <td>Nah I don't think he goes to usf, he lives aro...</td>\n",
       "      <td>0</td>\n",
       "    </tr>\n",
       "    <tr>\n",
       "      <th>5</th>\n",
       "      <td>FreeMsg Hey there darling it's been 3 week's n...</td>\n",
       "      <td>1</td>\n",
       "    </tr>\n",
       "    <tr>\n",
       "      <th>6</th>\n",
       "      <td>Even my brother is not like to speak with me. ...</td>\n",
       "      <td>0</td>\n",
       "    </tr>\n",
       "    <tr>\n",
       "      <th>7</th>\n",
       "      <td>As per your request 'Melle Melle (Oru Minnamin...</td>\n",
       "      <td>0</td>\n",
       "    </tr>\n",
       "    <tr>\n",
       "      <th>8</th>\n",
       "      <td>WINNER!! As a valued network customer you have...</td>\n",
       "      <td>1</td>\n",
       "    </tr>\n",
       "    <tr>\n",
       "      <th>9</th>\n",
       "      <td>Had your mobile 11 months or more? U R entitle...</td>\n",
       "      <td>1</td>\n",
       "    </tr>\n",
       "  </tbody>\n",
       "</table>\n",
       "</div>"
      ],
      "text/plain": [
       "                                                text  target\n",
       "0  Go until jurong point, crazy.. Available only ...       0\n",
       "1                      Ok lar... Joking wif u oni...       0\n",
       "2  Free entry in 2 a wkly comp to win FA Cup fina...       1\n",
       "3  U dun say so early hor... U c already then say...       0\n",
       "4  Nah I don't think he goes to usf, he lives aro...       0\n",
       "5  FreeMsg Hey there darling it's been 3 week's n...       1\n",
       "6  Even my brother is not like to speak with me. ...       0\n",
       "7  As per your request 'Melle Melle (Oru Minnamin...       0\n",
       "8  WINNER!! As a valued network customer you have...       1\n",
       "9  Had your mobile 11 months or more? U R entitle...       1"
      ]
     },
     "execution_count": 1,
     "metadata": {},
     "output_type": "execute_result"
    }
   ],
   "source": [
    "import pandas as pd\n",
    "import numpy as np\n",
    "\n",
    "spam_data = pd.read_csv('spam.csv')\n",
    "\n",
    "spam_data['target'] = np.where(spam_data['target']=='spam',1,0)\n",
    "spam_data.head(10)"
   ]
  },
  {
   "cell_type": "code",
   "execution_count": 2,
   "metadata": {
    "collapsed": true
   },
   "outputs": [],
   "source": [
    "from sklearn.model_selection import train_test_split\n",
    "\n",
    "X_train, X_test, y_train, y_test = train_test_split(spam_data['text'], \n",
    "                                                    spam_data['target'], \n",
    "                                                    random_state=0)"
   ]
  },
  {
   "cell_type": "markdown",
   "metadata": {},
   "source": [
    "### How Much SPAM?"
   ]
  },
  {
   "cell_type": "code",
   "execution_count": 3,
   "metadata": {},
   "outputs": [
    {
     "data": {
      "text/plain": [
       "13.406317300789663"
      ]
     },
     "execution_count": 3,
     "metadata": {},
     "output_type": "execute_result"
    }
   ],
   "source": [
    "total = spam_data.shape[0]\n",
    "spam = (spam_data['target'] == 1).sum()\n",
    "spam_percent = (spam/total)*100\n",
    "spam_percent\n"
   ]
  },
  {
   "cell_type": "code",
   "execution_count": 4,
   "metadata": {},
   "outputs": [
    {
     "data": {
      "text/plain": [
       "'com1win150ppmx3age16subscription'"
      ]
     },
     "execution_count": 4,
     "metadata": {},
     "output_type": "execute_result"
    }
   ],
   "source": [
    "#Fits the training data `X_train` using a Count Vectorizer with default parameters.\n",
    "#Finds the longest token.\n",
    "\n",
    "\n",
    "from sklearn.feature_extraction.text import CountVectorizer\n",
    "\n",
    "vect = CountVectorizer().fit(X_train)\n",
    "feature_list = vect.get_feature_names()\n",
    "longest = max(feature_list, key=len)\n",
    "longest\n"
   ]
  },
  {
   "cell_type": "code",
   "execution_count": 5,
   "metadata": {},
   "outputs": [
    {
     "data": {
      "text/plain": [
       "0.97208121827411165"
      ]
     },
     "execution_count": 5,
     "metadata": {},
     "output_type": "execute_result"
    }
   ],
   "source": [
    "#Fits and transform the training data `X_train` using a Count Vectorizer with default parameters.\n",
    "#Fits a multinomial Naive Bayes classifier model with smoothing  `alpha=0.1`. \n",
    "#Finds the area under the curve (AUC) score using the transformed test data.\n",
    "\n",
    "\n",
    "from sklearn.naive_bayes import MultinomialNB\n",
    "from sklearn.metrics import roc_auc_score\n",
    "\n",
    "X_train_vectorized = vect.transform(X_train)\n",
    "    \n",
    "model = MultinomialNB(alpha=0.1)\n",
    "model.fit(X_train_vectorized, y_train)\n",
    "predictions = model.predict(vect.transform(X_test))\n",
    "    \n",
    "roc_auc_score(y_test, predictions)\n"
   ]
  },
  {
   "cell_type": "code",
   "execution_count": 8,
   "metadata": {},
   "outputs": [
    {
     "data": {
      "text/plain": [
       "(aaniye          0.074475\n",
       " athletic        0.074475\n",
       " chef            0.074475\n",
       " companion       0.074475\n",
       " courageous      0.074475\n",
       " dependable      0.074475\n",
       " determined      0.074475\n",
       " exterminator    0.074475\n",
       " healer          0.074475\n",
       " listener        0.074475\n",
       " dtype: float64, 146tf150p    1.0\n",
       " 645          1.0\n",
       " anything     1.0\n",
       " anytime      1.0\n",
       " beerage      1.0\n",
       " done         1.0\n",
       " er           1.0\n",
       " havent       1.0\n",
       " home         1.0\n",
       " lei          1.0\n",
       " dtype: float64)"
      ]
     },
     "execution_count": 8,
     "metadata": {},
     "output_type": "execute_result"
    }
   ],
   "source": [
    "#Fits and transforms the training data `X_train` using a Tfidf Vectorizer with default parameters.\n",
    "#Determines what 10 features have the smallest tf-idf and what 10 have the largest tf-idf.\n",
    "#Returns a tuple of two series `(smallest tf-idfs series, largest tf-idfs series)` sorted by tf-idf value \n",
    "#and then alphabetically by feature name.\n",
    "\n",
    "\n",
    "from sklearn.feature_extraction.text import TfidfVectorizer\n",
    "\n",
    "vect = TfidfVectorizer().fit(X_train)\n",
    "X_train_vectorized = vect.transform(X_train)\n",
    "    \n",
    "#find the max tfidf for each feature , i.e. the max of each column in X_train_vectorized, \n",
    "#convert to array, making sure the result is a 1d array with length = number of features \n",
    "values =  X_train_vectorized.max(0).toarray()[0]\n",
    "    \n",
    "#get the feature names from the fitted vectorizer\n",
    "index = vect.get_feature_names()\n",
    "    \n",
    "#convert array to series indexed by feature names\n",
    "features_series = pd.Series(values,index=index)\n",
    "\n",
    "features_series.nsmallest(10),features_series.nlargest(10)\n"
   ]
  },
  {
   "cell_type": "code",
   "execution_count": 9,
   "metadata": {},
   "outputs": [
    {
     "data": {
      "text/plain": [
       "0.94162436548223349"
      ]
     },
     "execution_count": 9,
     "metadata": {},
     "output_type": "execute_result"
    }
   ],
   "source": [
    "#Fits and transforms the training data `X_train` using a Tfidf Vectorizer ignoring terms that have a \n",
    "#document frequency < 3.\n",
    "#Fits a multinomial Naive Bayes classifier model with smoothing `alpha=0.1`\n",
    "#Computes the AUC score using the transformed test data.\n",
    "\n",
    "\n",
    "vect = TfidfVectorizer(min_df=3).fit(X_train)\n",
    "X_train_vectorized = vect.transform(X_train)\n",
    "    \n",
    "model = MultinomialNB(alpha=0.1)\n",
    "model.fit(X_train_vectorized, y_train)\n",
    "predictions = model.predict(vect.transform(X_test))\n",
    "\n",
    "roc_auc_score(y_test, predictions)\n"
   ]
  },
  {
   "cell_type": "code",
   "execution_count": 10,
   "metadata": {},
   "outputs": [
    {
     "data": {
      "text/plain": [
       "(71.02362694300518, 138.8661311914324)"
      ]
     },
     "execution_count": 10,
     "metadata": {},
     "output_type": "execute_result"
    }
   ],
   "source": [
    "#Finds the average length of documents (number of characters) for not spam and spam documents\n",
    "#Returns a tuple (average length not spam, average length spam).*\n",
    "\n",
    "\n",
    "spam_len = spam_data.loc[(spam_data['target'] == 1), 'text'].str.len().mean()\n",
    "not_spam_len = spam_data.loc[(spam_data['target'] == 0), 'text'].str.len().mean()\n",
    "(not_spam_len, spam_len) "
   ]
  },
  {
   "cell_type": "code",
   "execution_count": 11,
   "metadata": {
    "collapsed": true
   },
   "outputs": [],
   "source": [
    "def add_feature(X, feature_to_add):\n",
    "    \"\"\"\n",
    "    Returns sparse feature matrix with added feature.\n",
    "    feature_to_add can also be a list of features.\n",
    "    \"\"\"\n",
    "    from scipy.sparse import csr_matrix, hstack\n",
    "    return hstack([X, csr_matrix(feature_to_add).T], 'csr')"
   ]
  },
  {
   "cell_type": "code",
   "execution_count": 12,
   "metadata": {},
   "outputs": [
    {
     "data": {
      "text/plain": [
       "0.95813668234215565"
      ]
     },
     "execution_count": 12,
     "metadata": {},
     "output_type": "execute_result"
    }
   ],
   "source": [
    "#Fits and transforms the training data X_train using a Tfidf Vectorizer ignoring terms that have \n",
    "#a document frequency < 5.\n",
    "#Uses an additional feature, the length of document (number of characters)\n",
    "#Fits a Support Vector Classification model with regularization `C=10000`. \n",
    "#Computes the AUC score using the transformed test data.\n",
    "\n",
    "\n",
    "from sklearn.svm import SVC\n",
    "\n",
    "vect = TfidfVectorizer(min_df=5).fit(X_train)\n",
    "X_train_vectorized = vect.transform(X_train)\n",
    "X_test_vectorized = vect.transform(X_test)\n",
    "    \n",
    "#add num_characters = X_train.str.len()\n",
    "X_train_vectorized = add_feature(X_train_vectorized, X_train.str.len())\n",
    "X_test_vectorized = add_feature(X_test_vectorized, X_test.str.len())\n",
    "    \n",
    "model = SVC(C=10000)\n",
    "model.fit(X_train_vectorized, y_train)\n",
    "predictions = model.predict(X_test_vectorized)\n",
    "AUC_SVC = roc_auc_score(y_test, predictions)\n",
    "\n",
    "AUC_SVC\n",
    "    "
   ]
  },
  {
   "cell_type": "code",
   "execution_count": 13,
   "metadata": {},
   "outputs": [
    {
     "data": {
      "text/plain": [
       "(0.2992746113989637, 15.759036144578314)"
      ]
     },
     "execution_count": 13,
     "metadata": {},
     "output_type": "execute_result"
    }
   ],
   "source": [
    "#Finds the average number of digits per document for not spam and spam documents\n",
    "#Returns a tuple (average # digits not spam, average # digits spam).\n",
    "\n",
    "spam_digit = spam_data.loc[(spam_data['target'] == 1), 'text'].str.count('\\d').mean()\n",
    "not_spam_digit = spam_data.loc[(spam_data['target'] == 0), 'text'].str.count('\\d').mean()\n",
    "    \n",
    "(not_spam_digit, spam_digit) \n",
    "    "
   ]
  },
  {
   "cell_type": "code",
   "execution_count": 14,
   "metadata": {},
   "outputs": [
    {
     "data": {
      "text/plain": [
       "0.96533283533945646"
      ]
     },
     "execution_count": 14,
     "metadata": {},
     "output_type": "execute_result"
    }
   ],
   "source": [
    "#Fits and transforms the training data `X_train` using a Tfidf Vectorizer ignoring terms that have \n",
    "#a document frequency < 5 and using word n-grams from n=1 to n=3.\n",
    "#Adds the following features: number of digits per document\n",
    "#Fits a Logistic Regression model with regularization `C=100`.\n",
    "#Computes the AUC score using the transformed test data.\n",
    "\n",
    "\n",
    "\n",
    "from sklearn.linear_model import LogisticRegression\n",
    "\n",
    "vect = TfidfVectorizer(min_df=5, ngram_range=(1,3)).fit(X_train)\n",
    "X_train_vectorized = vect.transform(X_train)\n",
    "X_test_vectorized = vect.transform(X_test)\n",
    "    \n",
    "X_train_vectorized = add_feature(X_train_vectorized, X_train.str.len())\n",
    "X_train_vectorized = add_feature(X_train_vectorized, X_train.str.count('\\d'))\n",
    "    \n",
    "X_test_vectorized = add_feature(X_test_vectorized, X_test.str.len())\n",
    "X_test_vectorized = add_feature(X_test_vectorized, X_test.str.count('\\d'))\n",
    "    \n",
    "model = LogisticRegression(C=100)\n",
    "model.fit(X_train_vectorized, y_train)\n",
    "predictions = model.predict(X_test_vectorized)\n",
    "    \n",
    "AUC_LR = roc_auc_score(y_test, predictions)\n",
    "AUC_LR\n"
   ]
  },
  {
   "cell_type": "code",
   "execution_count": 15,
   "metadata": {},
   "outputs": [
    {
     "data": {
      "text/plain": [
       "(17.29181347150259, 29.041499330655956)"
      ]
     },
     "execution_count": 15,
     "metadata": {},
     "output_type": "execute_result"
    }
   ],
   "source": [
    "#Finds the average number of non-word characters (anything other than a letter, digit or underscore) per document \n",
    "#for not spam and spam documents\n",
    "#Returns a tuple (average # non-word characters not spam, average # non-word characters spam).\n",
    "\n",
    "\n",
    "spam_non_word = spam_data.loc[(spam_data['target'] == 1), 'text'].str.count('\\W').mean()\n",
    "not_spam_non_word = spam_data.loc[(spam_data['target'] == 0), 'text'].str.count('\\W').mean()\n",
    "    \n",
    "(not_spam_non_word , spam_non_word) \n"
   ]
  },
  {
   "cell_type": "code",
   "execution_count": 16,
   "metadata": {},
   "outputs": [
    {
     "data": {
      "text/plain": [
       "(0.97885931107074342,\n",
       " ['. ', '..', '? ', ' i', ' y', ' go', ':)', ' h', 'go', ' m'],\n",
       " ['digit_count', 'ne', 'ia', 'co', 'xt', ' ch', 'mob', ' x', 'ww', 'ar'])"
      ]
     },
     "execution_count": 16,
     "metadata": {},
     "output_type": "execute_result"
    }
   ],
   "source": [
    "#Fits and transforms the training data X_train using a Count Vectorizer ignoring terms that have \n",
    "#a document frequency < 5 and using character n-grams from n=2 to n=5.\n",
    "\n",
    "#Uses character n-grams pass in `analyzer='char_wb'` which creates character n-grams only from text inside \n",
    "#word boundaries to make the model more robust to spelling mistakes.\n",
    "\n",
    "#Uses the following additional feature: \n",
    "#number of non-word characters (anything other than a letter, digit or underscore)\n",
    "\n",
    "#Fits a Logistic Regression model with regularization C=100.\n",
    "#Computes the AUC score using the transformed test data.\n",
    "\n",
    "#Finds the 10 smallest and 10 largest coefficients from the model.\n",
    "#The list of 10 smallest coefficients is sorted smallest first, \n",
    "#the list of 10 largest coefficients is sorted largest first.\n",
    "\n",
    "#Returns a tuple `(AUC score as a float, smallest coefs list, largest coefs list)`.\n",
    "\n",
    "\n",
    "\n",
    "vect = CountVectorizer(min_df=5, ngram_range=(2,5), analyzer='char_wb').fit(X_train)\n",
    "X_train_vectorized = vect.transform(X_train)\n",
    "X_test_vectorized = vect.transform(X_test)\n",
    "    \n",
    "X_train_vectorized = add_feature(X_train_vectorized, X_train.str.len())\n",
    "X_train_vectorized = add_feature(X_train_vectorized, X_train.str.count('\\d'))\n",
    "X_train_vectorized = add_feature(X_train_vectorized, X_train.str.count('\\W'))\n",
    "                                     \n",
    "X_test_vectorized = add_feature(X_test_vectorized, X_test.str.len())\n",
    "X_test_vectorized = add_feature(X_test_vectorized, X_test.str.count('\\d'))\n",
    "X_test_vectorized = add_feature(X_test_vectorized, X_test.str.count('\\W'))                                 \n",
    "    \n",
    "feature_names = np.array(vect.get_feature_names() + ['length_of_doc', 'digit_count', 'non_word_char_count'])\n",
    "    \n",
    "model = LogisticRegression(C=100)\n",
    "model.fit(X_train_vectorized, y_train)\n",
    "predictions = model.predict(X_test_vectorized)\n",
    "AUC = roc_auc_score(y_test, predictions)\n",
    "    \n",
    "sorted_coef_index = model.coef_[0].argsort()\n",
    "\n",
    "smallest_coefs = feature_names[sorted_coef_index[:10]]\n",
    "largest_coefs = feature_names[sorted_coef_index[:-11:-1]]\n",
    "    \n",
    "(AUC, list(smallest_coefs), list(largest_coefs))"
   ]
  }
 ],
 "metadata": {
  "coursera": {
   "course_slug": "python-text-mining",
   "graded_item_id": "Pn19K",
   "launcher_item_id": "y1juS",
   "part_id": "ctlgo"
  },
  "kernelspec": {
   "display_name": "Python 3",
   "language": "python",
   "name": "python3"
  },
  "language_info": {
   "codemirror_mode": {
    "name": "ipython",
    "version": 3
   },
   "file_extension": ".py",
   "mimetype": "text/x-python",
   "name": "python",
   "nbconvert_exporter": "python",
   "pygments_lexer": "ipython3",
   "version": "3.6.1"
  }
 },
 "nbformat": 4,
 "nbformat_minor": 2
}
